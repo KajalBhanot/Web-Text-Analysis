{
 "cells": [
  {
   "cell_type": "code",
   "execution_count": 74,
   "id": "20c05aa8-0ae5-4cec-9524-b568cb1d21f6",
   "metadata": {},
   "outputs": [],
   "source": [
    "import pandas as pd\n",
    "import numpy as np\n",
    "import matplotlib.pyplot as plt\n",
    "%matplotlib inline"
   ]
  },
  {
   "cell_type": "code",
   "execution_count": 75,
   "id": "d1891aff-0158-4760-b2ad-325d355c496d",
   "metadata": {},
   "outputs": [
    {
     "name": "stdout",
     "output_type": "stream",
     "text": [
      "/Users/rajeshprabhakarkaila/Downloads\n"
     ]
    }
   ],
   "source": [
    "import io\n",
    "%cd \"/Users/rajeshprabhakarkaila/Downloads\""
   ]
  },
  {
   "cell_type": "code",
   "execution_count": 76,
   "id": "a8fa341a-e60a-4f66-87b2-adb29135456f",
   "metadata": {},
   "outputs": [],
   "source": [
    "amznreviews=pd.read_csv(\"amazon.csv\")"
   ]
  },
  {
   "cell_type": "code",
   "execution_count": 77,
   "id": "4364a981-3704-4acf-8315-66525051b077",
   "metadata": {},
   "outputs": [
    {
     "name": "stdout",
     "output_type": "stream",
     "text": [
      "<class 'pandas.core.frame.DataFrame'>\n",
      "RangeIndex: 1465 entries, 0 to 1464\n",
      "Data columns (total 16 columns):\n",
      " #   Column               Non-Null Count  Dtype \n",
      "---  ------               --------------  ----- \n",
      " 0   product_id           1465 non-null   object\n",
      " 1   product_name         1465 non-null   object\n",
      " 2   category             1465 non-null   object\n",
      " 3   discounted_price     1465 non-null   object\n",
      " 4   actual_price         1465 non-null   object\n",
      " 5   discount_percentage  1465 non-null   object\n",
      " 6   rating               1465 non-null   object\n",
      " 7   rating_count         1463 non-null   object\n",
      " 8   about_product        1465 non-null   object\n",
      " 9   user_id              1465 non-null   object\n",
      " 10  user_name            1465 non-null   object\n",
      " 11  review_id            1465 non-null   object\n",
      " 12  review_title         1465 non-null   object\n",
      " 13  review_content       1465 non-null   object\n",
      " 14  img_link             1465 non-null   object\n",
      " 15  product_link         1465 non-null   object\n",
      "dtypes: object(16)\n",
      "memory usage: 183.3+ KB\n"
     ]
    }
   ],
   "source": [
    "amznreviews.info()"
   ]
  },
  {
   "cell_type": "code",
   "execution_count": 78,
   "id": "ce117ac9-1fd9-42c5-8d15-8f5899b7e6c1",
   "metadata": {},
   "outputs": [
    {
     "data": {
      "text/plain": [
       "0    Looks durable Charging is fine tooNo complains...\n",
       "1    I ordered this cable to connect my phone to An...\n",
       "2    Not quite durable and sturdy,https://m.media-a...\n",
       "3    Good product,long wire,Charges good,Nice,I bou...\n",
       "4    Bought this instead of original apple, does th...\n",
       "Name: review_content, dtype: object"
      ]
     },
     "execution_count": 78,
     "metadata": {},
     "output_type": "execute_result"
    }
   ],
   "source": [
    "amznreviews.review_content.head()"
   ]
  },
  {
   "cell_type": "code",
   "execution_count": 79,
   "id": "cc149e81-5cc1-46d9-b9c9-5f05c42db2d1",
   "metadata": {},
   "outputs": [],
   "source": [
    "# Conversion to lower case\n",
    "amznreviews.review_content=amznreviews.review_content.str.lower()"
   ]
  },
  {
   "cell_type": "code",
   "execution_count": 80,
   "id": "731c1250-39f1-4e1e-9910-5049680190a5",
   "metadata": {},
   "outputs": [],
   "source": [
    "import re\n",
    "def clean_txt(text):\n",
    "    return ' '.join(re.sub(\"(@[A-Za-z0-9]+)|(#[A-Za-z0-9]+)|([^0-9A-Za-z \\t])|(\\w+:\\/\\/\\s+)|([0-9])\",\" \",text).split())"
   ]
  },
  {
   "cell_type": "code",
   "execution_count": 81,
   "id": "83372c8f-c9da-4116-a82a-51551700eb2c",
   "metadata": {},
   "outputs": [],
   "source": [
    "amznreviews.review_content=[str(clean_txt(x)) for x in amznreviews.review_content]"
   ]
  },
  {
   "cell_type": "code",
   "execution_count": 82,
   "id": "22c2bc57-05ff-4fd8-b3f1-369e09f75942",
   "metadata": {},
   "outputs": [],
   "source": [
    "import nltk\n",
    "from nltk.corpus import stopwords"
   ]
  },
  {
   "cell_type": "code",
   "execution_count": 83,
   "id": "79415226-2a6a-4f59-82c2-d7ab4a1ddf6c",
   "metadata": {},
   "outputs": [],
   "source": [
    "english_stopwords=set(stopwords.words(\"english\"))"
   ]
  },
  {
   "cell_type": "code",
   "execution_count": 84,
   "id": "79528c8f-9387-4e68-b13c-a84fa8d5ebbe",
   "metadata": {},
   "outputs": [],
   "source": [
    "from nltk.tokenize import sent_tokenize,word_tokenize"
   ]
  },
  {
   "cell_type": "code",
   "execution_count": 106,
   "id": "f72a4412-55f4-4bea-9dfd-d6ea32a87ec3",
   "metadata": {},
   "outputs": [],
   "source": [
    "reviewsentences=amznreviews.review_content.apply(sent_tokenize)"
   ]
  },
  {
   "cell_type": "code",
   "execution_count": 108,
   "id": "b6f0f0a1-3a1f-4ad8-8773-6f358258f405",
   "metadata": {},
   "outputs": [],
   "source": [
    "from textblob import TextBlob"
   ]
  },
  {
   "cell_type": "code",
   "execution_count": 110,
   "id": "032aa979-920e-4630-ad2a-3f23749b3605",
   "metadata": {},
   "outputs": [],
   "source": [
    "def analyze_sentiment(text):\n",
    "    analysis=TextBlob(text)\n",
    "    if analysis.sentiment.polarity>0:\n",
    "        return \"Positive\"\n",
    "    elif analysis.sentiment.polarity==0:\n",
    "        return \"Neutral\"\n",
    "    else:\n",
    "        return \"Negative\""
   ]
  },
  {
   "cell_type": "code",
   "execution_count": 122,
   "id": "2f25275b-79a9-47a8-89fa-eb23526478a2",
   "metadata": {},
   "outputs": [],
   "source": [
    "reviewsentences=pd.DataFrame(reviewsentences)"
   ]
  },
  {
   "cell_type": "code",
   "execution_count": 128,
   "id": "99d3e7de-40e0-45d9-b5cc-1f9b12a3fe33",
   "metadata": {},
   "outputs": [],
   "source": [
    "reviewsentences['sentiment']=[str(analyze_sentiment(str(x))) \n",
    "                              for x in reviewsentences.review_content]"
   ]
  },
  {
   "cell_type": "code",
   "execution_count": 130,
   "id": "388eb10c-a3b4-4935-9233-4fa34bb7afbe",
   "metadata": {},
   "outputs": [
    {
     "data": {
      "text/plain": [
       "sentiment\n",
       "Positive    1458\n",
       "Negative       7\n",
       "Name: count, dtype: int64"
      ]
     },
     "execution_count": 130,
     "metadata": {},
     "output_type": "execute_result"
    }
   ],
   "source": [
    "reviewsentences.sentiment.value_counts()"
   ]
  },
  {
   "cell_type": "code",
   "execution_count": 134,
   "id": "b9a54c46-bb5c-4c3a-98e3-861e204d97df",
   "metadata": {},
   "outputs": [],
   "source": [
    "from sklearn.feature_extraction.text import TfidfVectorizer"
   ]
  },
  {
   "cell_type": "code",
   "execution_count": 136,
   "id": "61a30f10-0f4d-4ce1-98f9-9e2736b97418",
   "metadata": {},
   "outputs": [],
   "source": [
    "Tfidf=TfidfVectorizer(max_features=50,stop_words=\"english\")"
   ]
  },
  {
   "cell_type": "code",
   "execution_count": 144,
   "id": "c7d12c82-5098-4316-92b9-a85d48a97482",
   "metadata": {},
   "outputs": [],
   "source": [
    "reviewsentences['review_content'] = reviewsentences['review_content'].astype(str)"
   ]
  },
  {
   "cell_type": "code",
   "execution_count": 146,
   "id": "d16ac79a-34b1-4ed8-aaf8-acec2684dcbd",
   "metadata": {},
   "outputs": [],
   "source": [
    "X_tfidf=Tfidf.fit_transform(reviewsentences.review_content)"
   ]
  },
  {
   "cell_type": "code",
   "execution_count": 150,
   "id": "1c90e6e7-a84f-4aae-8f2f-3a9475b04d6d",
   "metadata": {},
   "outputs": [
    {
     "data": {
      "text/html": [
       "<div>\n",
       "<style scoped>\n",
       "    .dataframe tbody tr th:only-of-type {\n",
       "        vertical-align: middle;\n",
       "    }\n",
       "\n",
       "    .dataframe tbody tr th {\n",
       "        vertical-align: top;\n",
       "    }\n",
       "\n",
       "    .dataframe thead th {\n",
       "        text-align: right;\n",
       "    }\n",
       "</style>\n",
       "<table border=\"1\" class=\"dataframe\">\n",
       "  <thead>\n",
       "    <tr style=\"text-align: right;\">\n",
       "      <th></th>\n",
       "      <th>looks</th>\n",
       "      <th>charging</th>\n",
       "      <th>fine</th>\n",
       "      <th>really</th>\n",
       "      <th>fast</th>\n",
       "      <th>good</th>\n",
       "      <th>product</th>\n",
       "      <th>quality</th>\n",
       "      <th>speed</th>\n",
       "      <th>cable</th>\n",
       "      <th>...</th>\n",
       "      <th>range</th>\n",
       "      <th>easy</th>\n",
       "      <th>time</th>\n",
       "      <th>overall</th>\n",
       "      <th>watch</th>\n",
       "      <th>tv</th>\n",
       "      <th>sound</th>\n",
       "      <th>screen</th>\n",
       "      <th>camera</th>\n",
       "      <th>water</th>\n",
       "    </tr>\n",
       "  </thead>\n",
       "  <tbody>\n",
       "    <tr>\n",
       "      <th>0</th>\n",
       "      <td>0.162710</td>\n",
       "      <td>0.0</td>\n",
       "      <td>0.0</td>\n",
       "      <td>0.0</td>\n",
       "      <td>0.0</td>\n",
       "      <td>0.000000</td>\n",
       "      <td>0.0</td>\n",
       "      <td>0.391169</td>\n",
       "      <td>0.0</td>\n",
       "      <td>0.601347</td>\n",
       "      <td>...</td>\n",
       "      <td>0.0</td>\n",
       "      <td>0.0</td>\n",
       "      <td>0.000000</td>\n",
       "      <td>0.18119</td>\n",
       "      <td>0.0</td>\n",
       "      <td>0.0</td>\n",
       "      <td>0.0</td>\n",
       "      <td>0.000000</td>\n",
       "      <td>0.0</td>\n",
       "      <td>0.0</td>\n",
       "    </tr>\n",
       "    <tr>\n",
       "      <th>1</th>\n",
       "      <td>0.000000</td>\n",
       "      <td>0.0</td>\n",
       "      <td>0.0</td>\n",
       "      <td>0.0</td>\n",
       "      <td>0.0</td>\n",
       "      <td>0.086274</td>\n",
       "      <td>0.0</td>\n",
       "      <td>0.590661</td>\n",
       "      <td>0.0</td>\n",
       "      <td>0.518874</td>\n",
       "      <td>...</td>\n",
       "      <td>0.0</td>\n",
       "      <td>0.0</td>\n",
       "      <td>0.065984</td>\n",
       "      <td>0.07817</td>\n",
       "      <td>0.0</td>\n",
       "      <td>0.0</td>\n",
       "      <td>0.0</td>\n",
       "      <td>0.137722</td>\n",
       "      <td>0.0</td>\n",
       "      <td>0.0</td>\n",
       "    </tr>\n",
       "    <tr>\n",
       "      <th>2</th>\n",
       "      <td>0.511616</td>\n",
       "      <td>0.0</td>\n",
       "      <td>0.0</td>\n",
       "      <td>0.0</td>\n",
       "      <td>0.0</td>\n",
       "      <td>0.000000</td>\n",
       "      <td>0.0</td>\n",
       "      <td>0.000000</td>\n",
       "      <td>0.0</td>\n",
       "      <td>0.000000</td>\n",
       "      <td>...</td>\n",
       "      <td>0.0</td>\n",
       "      <td>0.0</td>\n",
       "      <td>0.000000</td>\n",
       "      <td>0.00000</td>\n",
       "      <td>0.0</td>\n",
       "      <td>0.0</td>\n",
       "      <td>0.0</td>\n",
       "      <td>0.501876</td>\n",
       "      <td>0.0</td>\n",
       "      <td>0.0</td>\n",
       "    </tr>\n",
       "  </tbody>\n",
       "</table>\n",
       "<p>3 rows × 50 columns</p>\n",
       "</div>"
      ],
      "text/plain": [
       "      looks  charging  fine  really  fast      good  product   quality  speed  \\\n",
       "0  0.162710       0.0   0.0     0.0   0.0  0.000000      0.0  0.391169    0.0   \n",
       "1  0.000000       0.0   0.0     0.0   0.0  0.086274      0.0  0.590661    0.0   \n",
       "2  0.511616       0.0   0.0     0.0   0.0  0.000000      0.0  0.000000    0.0   \n",
       "\n",
       "      cable  ...  range  easy      time  overall  watch   tv  sound    screen  \\\n",
       "0  0.601347  ...    0.0   0.0  0.000000  0.18119    0.0  0.0    0.0  0.000000   \n",
       "1  0.518874  ...    0.0   0.0  0.065984  0.07817    0.0  0.0    0.0  0.137722   \n",
       "2  0.000000  ...    0.0   0.0  0.000000  0.00000    0.0  0.0    0.0  0.501876   \n",
       "\n",
       "   camera  water  \n",
       "0     0.0    0.0  \n",
       "1     0.0    0.0  \n",
       "2     0.0    0.0  \n",
       "\n",
       "[3 rows x 50 columns]"
      ]
     },
     "execution_count": 150,
     "metadata": {},
     "output_type": "execute_result"
    }
   ],
   "source": [
    "pd.DataFrame(X_tfidf.toarray(),columns=Tfidf.vocabulary_).head(3)"
   ]
  },
  {
   "cell_type": "code",
   "execution_count": 154,
   "id": "f2522878-a6a5-4b29-8205-a8ebb64b7abf",
   "metadata": {},
   "outputs": [],
   "source": [
    "from imblearn.over_sampling import SMOTE"
   ]
  },
  {
   "cell_type": "code",
   "execution_count": 156,
   "id": "3a75bf04-094e-4c60-886b-d097595068c3",
   "metadata": {},
   "outputs": [],
   "source": [
    "y=reviewsentences.sentiment"
   ]
  },
  {
   "cell_type": "code",
   "execution_count": 158,
   "id": "3fa02c2b-58a5-4ec6-b3c5-a8c8dba0a1db",
   "metadata": {},
   "outputs": [],
   "source": [
    "X_smote,y_smote=SMOTE().fit_resample(X_tfidf,y)"
   ]
  },
  {
   "cell_type": "code",
   "execution_count": 162,
   "id": "e39dbc59-8e42-4c70-bb5f-916371da9ca0",
   "metadata": {},
   "outputs": [
    {
     "name": "stdout",
     "output_type": "stream",
     "text": [
      "           count\n",
      "sentiment       \n",
      "Positive    1458\n",
      "Negative       7\n",
      "           count\n",
      "sentiment       \n",
      "Positive    1458\n",
      "Negative    1458\n"
     ]
    }
   ],
   "source": [
    "print(pd.DataFrame(y.value_counts()))\n",
    "print(pd.DataFrame(y_smote.value_counts()))"
   ]
  },
  {
   "cell_type": "code",
   "execution_count": 164,
   "id": "72886829-fd28-48cf-ae05-86a8d404a783",
   "metadata": {},
   "outputs": [],
   "source": [
    "from sklearn.preprocessing import LabelEncoder"
   ]
  },
  {
   "cell_type": "code",
   "execution_count": 174,
   "id": "6d3ba095-ebc4-4145-988e-77ef82183ceb",
   "metadata": {},
   "outputs": [],
   "source": [
    "y_smote=LabelEncoder().fit_transform(y_smote)"
   ]
  },
  {
   "cell_type": "code",
   "execution_count": 176,
   "id": "13721a29-af9a-4c42-9e2f-7e4c0cd342c5",
   "metadata": {},
   "outputs": [
    {
     "data": {
      "text/plain": [
       "0\n",
       "0    1458\n",
       "1    1458\n",
       "Name: count, dtype: int64"
      ]
     },
     "execution_count": 176,
     "metadata": {},
     "output_type": "execute_result"
    }
   ],
   "source": [
    "pd.DataFrame(y_smote).value_counts()"
   ]
  },
  {
   "cell_type": "code",
   "execution_count": 178,
   "id": "888da7b7-1bac-4cfb-b2ca-3c88a1249d0d",
   "metadata": {},
   "outputs": [],
   "source": [
    "from sklearn.linear_model import LogisticRegression"
   ]
  },
  {
   "cell_type": "code",
   "execution_count": 180,
   "id": "238599b7-64c5-4595-9e02-a3e08f373c46",
   "metadata": {},
   "outputs": [],
   "source": [
    "logisticmodel=LogisticRegression().fit(X_smote,y_smote)"
   ]
  },
  {
   "cell_type": "code",
   "execution_count": 182,
   "id": "5f0cd182-a411-44f2-bafb-7dd19def027f",
   "metadata": {},
   "outputs": [
    {
     "data": {
      "text/plain": [
       "0.9900548696844993"
      ]
     },
     "execution_count": 182,
     "metadata": {},
     "output_type": "execute_result"
    }
   ],
   "source": [
    "logisticmodel.score(X_smote,y_smote)"
   ]
  },
  {
   "cell_type": "code",
   "execution_count": 184,
   "id": "2d8d1ecc-8e9f-43dd-8bb5-1b34c5db024f",
   "metadata": {},
   "outputs": [],
   "source": [
    "logistic_pred=logisticmodel.predict(X_smote) "
   ]
  },
  {
   "cell_type": "code",
   "execution_count": 186,
   "id": "74fc9fd8-7617-4d43-8414-7bd5e998dd33",
   "metadata": {},
   "outputs": [
    {
     "data": {
      "text/html": [
       "<div>\n",
       "<style scoped>\n",
       "    .dataframe tbody tr th:only-of-type {\n",
       "        vertical-align: middle;\n",
       "    }\n",
       "\n",
       "    .dataframe tbody tr th {\n",
       "        vertical-align: top;\n",
       "    }\n",
       "\n",
       "    .dataframe thead th {\n",
       "        text-align: right;\n",
       "    }\n",
       "</style>\n",
       "<table border=\"1\" class=\"dataframe\">\n",
       "  <thead>\n",
       "    <tr style=\"text-align: right;\">\n",
       "      <th>col_0</th>\n",
       "      <th>0</th>\n",
       "      <th>1</th>\n",
       "    </tr>\n",
       "    <tr>\n",
       "      <th>row_0</th>\n",
       "      <th></th>\n",
       "      <th></th>\n",
       "    </tr>\n",
       "  </thead>\n",
       "  <tbody>\n",
       "    <tr>\n",
       "      <th>0</th>\n",
       "      <td>1458</td>\n",
       "      <td>0</td>\n",
       "    </tr>\n",
       "    <tr>\n",
       "      <th>1</th>\n",
       "      <td>29</td>\n",
       "      <td>1429</td>\n",
       "    </tr>\n",
       "  </tbody>\n",
       "</table>\n",
       "</div>"
      ],
      "text/plain": [
       "col_0     0     1\n",
       "row_0            \n",
       "0      1458     0\n",
       "1        29  1429"
      ]
     },
     "execution_count": 186,
     "metadata": {},
     "output_type": "execute_result"
    }
   ],
   "source": [
    "pd.crosstab(y_smote,logistic_pred)"
   ]
  },
  {
   "cell_type": "code",
   "execution_count": 188,
   "id": "b59cd700-d9e7-4c60-b14c-f394bd9dc637",
   "metadata": {},
   "outputs": [],
   "source": [
    "from sklearn.tree import DecisionTreeClassifier\n",
    "from sklearn.model_selection import cross_val_score"
   ]
  },
  {
   "cell_type": "code",
   "execution_count": 190,
   "id": "774dd955-d3e2-440c-b71c-fee47246c4d2",
   "metadata": {},
   "outputs": [],
   "source": [
    "treemodel=DecisionTreeClassifier().fit(X_smote,y_smote)"
   ]
  },
  {
   "cell_type": "code",
   "execution_count": 192,
   "id": "9e059cfb-51f5-438c-9c8f-3034bef57fea",
   "metadata": {},
   "outputs": [
    {
     "data": {
      "text/plain": [
       "1.0"
      ]
     },
     "execution_count": 192,
     "metadata": {},
     "output_type": "execute_result"
    }
   ],
   "source": [
    "treemodel.score(X_smote,y_smote)"
   ]
  },
  {
   "cell_type": "code",
   "execution_count": 194,
   "id": "ed6946c1-80eb-4d6c-b738-46b7a7331b59",
   "metadata": {},
   "outputs": [
    {
     "data": {
      "text/plain": [
       "array([0.98287671, 0.99656947, 1.        , 0.99828473, 0.99656947])"
      ]
     },
     "execution_count": 194,
     "metadata": {},
     "output_type": "execute_result"
    }
   ],
   "source": [
    "cross_val_score(treemodel,X_smote,y_smote)"
   ]
  },
  {
   "cell_type": "code",
   "execution_count": null,
   "id": "76b7d55b-b45a-4ae5-b3ed-8345aeba1b35",
   "metadata": {},
   "outputs": [],
   "source": []
  }
 ],
 "metadata": {
  "kernelspec": {
   "display_name": "Python 3 (ipykernel)",
   "language": "python",
   "name": "python3"
  },
  "language_info": {
   "codemirror_mode": {
    "name": "ipython",
    "version": 3
   },
   "file_extension": ".py",
   "mimetype": "text/x-python",
   "name": "python",
   "nbconvert_exporter": "python",
   "pygments_lexer": "ipython3",
   "version": "3.11.6"
  }
 },
 "nbformat": 4,
 "nbformat_minor": 5
}
